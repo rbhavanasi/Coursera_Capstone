{
 "cells": [
  {
   "cell_type": "markdown",
   "metadata": {},
   "source": [
    "# Capstone Project - The Battle of the Neighborhoods (Week 1)\n",
    "<br>\n",
    "<br>\n",
    "\n",
    "## 1. Introduction: Problem\n",
    "<br>\n",
    "In this project, we will explore the schools in a neighborhood by comparing them based on various features. Specifically, this exercise is to group similar schools in <b> San Mateo country in California.</b>\n",
    "\n",
    "We will use various features such as <b> grade level, gender, tests performance, economic criteria, ethnicity of student and parent education </b> etc., to create the school clusters. There are many different choices of selecting certain combinations of attributes, this grouping exercise of schools may help in identifying the <i> influencing criteria </i> of such characteristics.\n",
    "\n",
    "This study would help in making certain decisions based on individual’s choice, such as moving to San Mateo county in California, for either easier commute or may have more affordable housing or ethnic culture or for any other personal and/or business reasons.\n",
    "<br>\n",
    "<br>\n",
    "\n",
    "## 2. Data:\n",
    "<br>\n",
    "<b>Based on the above problem description, we need the following data items:</b>\n",
    "<ul>\n",
    "<li>List of schools and locations in county of San Mateo, California </li>\n",
    "<li>Test performance data of the schools for different grades, gender, ethnicity and various other attributes </li>\n",
    "<li>The geolocation data i.e. Latitude, Longitude for each school in San Mateo </li>\n",
    "</ul>\n",
    "<br>\n",
    "<b>Following data sources will be needed to extract the required information:</b>\n",
    "<ol>\n",
    "    <li>The <b>“Research Files”</b> at <a href=\"https://caaspp.cde.ca.gov/sb2018/ResearchFileListCAA#accurate-results\" >California Department of Education</a> for Smarter Balanced Assessments data can be downloaded as csv files. These research files contain results from the administrations of the California Assessment of Student Performance and Progress (CAASPP) Smarter Balanced Assessments. As per the website, these research files require two primary tables, the <i>entities</i> and the <i>test data</i>.</li>\n",
    "    <li><b>Entities:</b> lists the County, District, and School entity name, code and zip-code for all entities as the existed in the administration year selected. This file must be merged with the research file to join these entity names with the appropriate score data.</li>\n",
    "    <li><b>Test data:</b> comprised of the school, district, county, and state aggregate CAASPP counts and scores. </li>\n",
    "    <li><b>Other supporting data:</b> can be downloaded from the above website, the <i>Student Group ID,</i> identifies each demographic student group and ID reported in the CAASPP results. The <i>Test ID,</i> each student will take a number of tests and a specific test should be selected during analysis.</li> \n",
    "    <li><b>Geocoding data:</b> obtain the school location data i.e. Latitude, Longitude based on the name of the school and zip-code, using Google Maps API geocoding.</li>\n",
    "</ol>\n"
   ]
  },
  {
   "cell_type": "code",
   "execution_count": null,
   "metadata": {},
   "outputs": [],
   "source": []
  }
 ],
 "metadata": {
  "kernelspec": {
   "display_name": "Python 3",
   "language": "python",
   "name": "python3"
  },
  "language_info": {
   "codemirror_mode": {
    "name": "ipython",
    "version": 3
   },
   "file_extension": ".py",
   "mimetype": "text/x-python",
   "name": "python",
   "nbconvert_exporter": "python",
   "pygments_lexer": "ipython3",
   "version": "3.7.3"
  }
 },
 "nbformat": 4,
 "nbformat_minor": 4
}
